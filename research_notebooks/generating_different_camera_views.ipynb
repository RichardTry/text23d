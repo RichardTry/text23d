{
 "cells": [
  {
   "cell_type": "markdown",
   "metadata": {},
   "source": [
    "## Random ray direction and ray origins"
   ]
  },
  {
   "cell_type": "markdown",
   "metadata": {},
   "source": [
    "### Imports"
   ]
  },
  {
   "cell_type": "code",
   "execution_count": 1,
   "metadata": {},
   "outputs": [],
   "source": [
    "import numpy as np"
   ]
  },
  {
   "cell_type": "markdown",
   "metadata": {},
   "source": [
    "### Generating rays from spherical coordinates"
   ]
  },
  {
   "cell_type": "code",
   "execution_count": 2,
   "metadata": {},
   "outputs": [],
   "source": [
    "# generate random spehrical coordinates\n",
    "def generate_random_sperical_coordinates():\n",
    "    # Step 1: Radius (r)\n",
    "    radius = np.random.uniform(1, 3)  # You can adjust the range as needed\n",
    "    \n",
    "    # Step 2: Polar Angle (θ)\n",
    "    polar_angle = np.random.uniform(0, np.pi)  # Range: [0, π]\n",
    "\n",
    "    # Step 3: Azimuthal Angle (φ)\n",
    "    azimuthal_angle = np.random.uniform(0, 2 * np.pi)  # Range: [0, 2π]\n",
    "\n",
    "    return radius, polar_angle, azimuthal_angle\n",
    "\n",
    "def spherical_to_cartesian(radius, polar_angle, azimuthal_angle):\n",
    "    x = radius * np.sin(polar_angle) * np.cos(azimuthal_angle)\n",
    "    y = radius * np.sin(polar_angle) * np.sin(azimuthal_angle)\n",
    "    z = radius * np.cos(polar_angle)\n",
    "    \n",
    "    return x, y, z\n",
    "\n",
    "def compute_ray_from_spherical_coordinates():\n",
    "    # Convert spherical to Cartesian coordinates\n",
    "    radius, polar_angle, azimuthal_angle = generate_random_sperical_coordinates()\n",
    "    x, y, z = spherical_to_cartesian(radius, polar_angle, azimuthal_angle)\n",
    "\n",
    "    # Ray origin is the Cartesian coordinates\n",
    "    ray_origin = (x, y, z)\n",
    "\n",
    "    # Ray direction is a normalized vector in the same direction\n",
    "    ray_length = np.sqrt(x**2 + y**2 + z**2)\n",
    "    ray_direction = (x/ray_length, y/ray_length, z/ray_length)\n",
    "\n",
    "    return ray_origin, ray_direction"
   ]
  },
  {
   "cell_type": "markdown",
   "metadata": {},
   "source": [
    "We will use following algorithm to generate different camera poses:\n",
    "* generate uniform random $\\theta \\in [0, \\pi]$ and $\\phi \\in [0, 2\\pi]$\n",
    "* convert spherical coordinates into Cartesian coordinates using transformation formula <br>\n",
    "$x = R\\sin(\\theta)\\cos(\\phi)$ <br>\n",
    "$y = R\\sin(\\theta)\\sin(\\phi)$ <br>\n",
    "$z = R\\cos(\\theta)$ <br>\n",
    "This is going to be a camera position\n",
    "* convert Cartesian coordinates into camera position coordinates, thus creating camera2world matrix with\n",
    "$up = {0, 1, 0}$ always assuming that that camera is moving upwards, aligned with y axis <br>\n",
    "$forward = cameraPosition$ <br>\n",
    "$right =  forward*up$  <br>\n",
    "$up = forward * right$ <br>\n",
    "\n",
    "* generate ray directions, assuming camera is placed at origin\n",
    "* adjust ray directions using camera poses\n"
   ]
  },
  {
   "cell_type": "code",
   "execution_count": null,
   "metadata": {},
   "outputs": [],
   "source": [
    "default_fov = 20\n",
    "H = 64\n",
    "W = 64\n",
    "focal = H / (2 * np.tan(np.deg2rad(default_fov) / 2))\n",
    "\n",
    "\n",
    "from tiny_nerf.utils.ray_utils import get_ray_directions, get_rays\n",
    "\n",
    "\n",
    "directions = get_ray_directions(H, W, focal)\n",
    "\n",
    "ray_origin, ray_direction = get_rays(directions, )"
   ]
  }
 ],
 "metadata": {
  "kernelspec": {
   "display_name": "usual",
   "language": "python",
   "name": "python3"
  },
  "language_info": {
   "codemirror_mode": {
    "name": "ipython",
    "version": 3
   },
   "file_extension": ".py",
   "mimetype": "text/x-python",
   "name": "python",
   "nbconvert_exporter": "python",
   "pygments_lexer": "ipython3",
   "version": "3.11.7"
  }
 },
 "nbformat": 4,
 "nbformat_minor": 2
}
