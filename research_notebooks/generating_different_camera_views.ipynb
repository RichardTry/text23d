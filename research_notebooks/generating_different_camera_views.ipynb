{
 "cells": [
  {
   "cell_type": "markdown",
   "metadata": {},
   "source": [
    "## Random ray direction and ray origins"
   ]
  },
  {
   "cell_type": "markdown",
   "metadata": {},
   "source": [
    "### Imports"
   ]
  },
  {
   "cell_type": "code",
   "execution_count": 107,
   "metadata": {},
   "outputs": [],
   "source": [
    "import numpy as np\n",
    "import torch\n",
    "import trimesh\n",
    "from enum import Enum\n",
    "\n",
    "\n",
    "torch_device = 'cpu'\n"
   ]
  },
  {
   "cell_type": "markdown",
   "metadata": {},
   "source": [
    "### Generating rays from spherical coordinates"
   ]
  },
  {
   "cell_type": "code",
   "execution_count": 2,
   "metadata": {},
   "outputs": [],
   "source": [
    "# generate random spehrical coordinates\n",
    "def generate_random_sperical_coordinates():\n",
    "    # Step 1: Radius (r)\n",
    "    radius = np.random.uniform(1, 3)  # You can adjust the range as needed\n",
    "    \n",
    "    # Step 2: Polar Angle (θ)\n",
    "    polar_angle = np.random.uniform(0, np.pi)  # Range: [0, π]\n",
    "\n",
    "    # Step 3: Azimuthal Angle (φ)\n",
    "    azimuthal_angle = np.random.uniform(0, 2 * np.pi)  # Range: [0, 2π]\n",
    "\n",
    "    return radius, polar_angle, azimuthal_angle\n",
    "\n",
    "def spherical_to_cartesian(radius, polar_angle, azimuthal_angle):\n",
    "    x = radius * np.sin(polar_angle) * np.cos(azimuthal_angle)\n",
    "    y = radius * np.sin(polar_angle) * np.sin(azimuthal_angle)\n",
    "    z = radius * np.cos(polar_angle)\n",
    "    \n",
    "    return x, y, z\n",
    "\n",
    "def compute_ray_from_spherical_coordinates():\n",
    "    # Convert spherical to Cartesian coordinates\n",
    "    radius, polar_angle, azimuthal_angle = generate_random_sperical_coordinates()\n",
    "    x, y, z = spherical_to_cartesian(radius, polar_angle, azimuthal_angle)\n",
    "\n",
    "    # Ray origin is the Cartesian coordinates\n",
    "    ray_origin = (x, y, z)\n",
    "\n",
    "    # Ray direction is a normalized vector in the same direction\n",
    "    ray_length = np.sqrt(x**2 + y**2 + z**2)\n",
    "    ray_direction = (x/ray_length, y/ray_length, z/ray_length)\n",
    "\n",
    "    return ray_origin, ray_direction"
   ]
  },
  {
   "cell_type": "markdown",
   "metadata": {},
   "source": [
    "We will use following algorithm to generate different camera poses:\n",
    "* generate uniform random $\\theta \\in [0, \\pi]$ and $\\phi \\in [0, 2\\pi]$\n",
    "* convert spherical coordinates into Cartesian coordinates using transformation formula <br>\n",
    "$x = R\\sin(\\theta)\\cos(\\phi)$ <br>\n",
    "$y = R\\sin(\\theta)\\sin(\\phi)$ <br>\n",
    "$z = R\\cos(\\theta)$ <br>\n",
    "This is going to be a camera position\n",
    "* convert Cartesian coordinates into camera position coordinates, thus creating camera2world matrix with\n",
    "$up = {0, 1, 0}$ always assuming that that camera is moving upwards, aligned with y axis <br>\n",
    "$forward = cameraPosition$ <br>\n",
    "$right =  forward*up$  <br>\n",
    "$up = forward * right$ <br>\n",
    "\n",
    "* generate ray directions, assuming camera is placed at origin\n",
    "* adjust ray directions using camera poses\n",
    "After that we would need bound our camera position to the concrete direction - front, rear, up etc for the right prompt generation. For each position it would be easy to do if we know spherical coordinates.\n",
    "\n",
    "We would use previsouly generated spherical coordinates to establish thresholds for each concrete position\n",
    "\n"
   ]
  },
  {
   "cell_type": "code",
   "execution_count": 160,
   "metadata": {},
   "outputs": [],
   "source": [
    "class Directions(Enum):\n",
    "    FRONT = 0,      np.array([255, 0, 0, 255])   # phi \\in [-front/2, front/2)\n",
    "    SIDE_LEFT = 1,  np.array([0, 255, 0, 255])   # phi \\in [front/2, 180-front/2)\n",
    "    BACK = 2,       np.array([0, 0, 255, 255])   # phi \\in [180-front/2, 180+front/2)\n",
    "    SIDE_RIGHT = 3, np.array([255, 255, 0, 255]) # phi \\in [180+front/2, 360-front/2)\n",
    "    TOP = 4,        np.array([255, 0, 255, 255]) # theta \\in [0, overhead]\n",
    "    BOTTOM = 5,     np.array([0, 255, 255, 255]) # theta \\in [180-overhead, 180]\n",
    "    def __int__(self):\n",
    "        return self.value[0]\n",
    "    \n",
    "    def get_color(self):\n",
    "        return self.value[1]\n",
    "\n",
    "def normalize(x):\n",
    "    return x / torch.sqrt(torch.sum(x**2, keepdim=True, dim=-1))\n",
    "\n",
    "\n",
    "# taken from https://github.com/ashawkey/stable-dreamfusion/blob/main/nerf/provider.py\n",
    "def get_directions_from_spherical(thetas, phis, overhead_angle, front_angle):\n",
    "    dirs = np.empty(thetas.shape[0], dtype=Directions)\n",
    "    # first determine by phis\n",
    "    #phis = phis % (2 * np.pi)\n",
    "    dirs[(phis < front_angle / 2) | (phis >= 2 * np.pi - front_angle / 2)] = Directions.FRONT\n",
    "    dirs[(phis >= front_angle / 2) & (phis < np.pi - front_angle / 2)] = Directions.SIDE_LEFT\n",
    "    dirs[(phis >= np.pi - front_angle / 2) & (phis < np.pi + front_angle / 2)] = Directions.BACK\n",
    "    dirs[(phis >= np.pi + front_angle / 2) & (phis < 2 * np.pi - front_angle / 2)] = Directions.SIDE_RIGHT\n",
    "    # override by thetas\n",
    "    dirs[thetas <= overhead_angle] = Directions.TOP\n",
    "    dirs[thetas >= (np.pi - overhead_angle)] = Directions.BOTTOM\n",
    "    return dirs\n",
    "\n",
    "\n",
    "def generate_random_poses(size, theta_range = np.array([0, 180]),\n",
    "                          phi_range = np.array([0, 360]),\n",
    "                          radius_range = np.array([1, 1.5]),\n",
    "                          front_angle = 60,\n",
    "                          overhead_angle = 30):\n",
    "    # convert theta range and phi range to radians\n",
    "    # as sin, cos function expect radians\n",
    "    theta_range = theta_range * (np.pi / 180)\n",
    "    phi_range = phi_range * (np.pi / 180)\n",
    "    front_angle = front_angle * (np.pi / 180)\n",
    "    overhead_angle = overhead_angle * (np.pi / 180)\n",
    "\n",
    "    # generate spherical coordinates\n",
    "    thetas = torch.rand(size) * (theta_range[1] - theta_range[0]) + theta_range[0]\n",
    "    phis =  torch.rand(size) * (phi_range[1] - phi_range[0]) + phi_range[0]\n",
    "    radius = torch.rand(size) * (radius_range[1] - radius_range[0]) + radius_range[0]\n",
    "    #phis[phis < 0] += 2 * np.pi\n",
    "    # transform spehrical coordinates to the point on the sphere in cartesian coordinates\n",
    "    x = radius * torch.sin(thetas) * torch.cos(phis)\n",
    "    y = radius * torch.sin(thetas) * torch.sin(phis)\n",
    "    z = radius * torch.cos(thetas)\n",
    "\n",
    "    camera_position = torch.stack((x, y, z), dim=-1)\n",
    "\n",
    "    # transform cartesian coordinates to the camera coordinates\n",
    "    # initial camera UP trajectory\n",
    "    up = torch.Tensor([0, 1, 0]).repeat(size, 1)\n",
    "\n",
    "    forward = camera_position\n",
    "    right = normalize(torch.cross(forward, up, dim=-1))\n",
    "    up = normalize(torch.cross(forward, right, dim=-1))\n",
    "\n",
    "    # create translation matrix\n",
    "    poses = torch.empty((3, 4), dtype=torch.float).repeat(size, 1, 1)\n",
    "    poses[:, :3, :3] = torch.stack((right, up, forward), dim=-1)\n",
    "    poses[:, :3, 3] = camera_position\n",
    "\n",
    "    directions = get_directions_from_spherical(thetas, phis, overhead_angle, front_angle)\n",
    "\n",
    "    return poses, directions"
   ]
  },
  {
   "cell_type": "markdown",
   "metadata": {},
   "source": [
    "To test what we've generated let's visualise resulted poses"
   ]
  },
  {
   "cell_type": "code",
   "execution_count": 181,
   "metadata": {},
   "outputs": [],
   "source": [
    "# taken from https://github.com/ashawkey/stable-dreamfusion/blob/main/nerf/provider.py\n",
    "def visualize_poses(poses, dirs, size=0.1):\n",
    "    # poses: [B, 4, 4], dirs: [B]\n",
    "    #print(poses.shape)\n",
    "    axes = trimesh.creation.axis(axis_length=4)\n",
    "    sphere = trimesh.creation.icosphere(radius=1)\n",
    "    objects = [axes, sphere]\n",
    "\n",
    "    for pose, dir in zip(poses, dirs):\n",
    "        # a camera is visualized with 8 line segments.\n",
    "        pos = pose[:3, 3]\n",
    "        a = pos + size * pose[:3, 0] + size * pose[:3, 1] - size * pose[:3, 2]\n",
    "        b = pos - size * pose[:3, 0] + size * pose[:3, 1] - size * pose[:3, 2]\n",
    "        c = pos - size * pose[:3, 0] - size * pose[:3, 1] - size * pose[:3, 2]\n",
    "        d = pos + size * pose[:3, 0] - size * pose[:3, 1] - size * pose[:3, 2]\n",
    "\n",
    "        segs = np.array([[pos.numpy(), a.numpy()],\n",
    "                         [pos.numpy(), b.numpy()],\n",
    "                         [pos.numpy(), c.numpy()],\n",
    "                         [pos.numpy(), d.numpy()],\n",
    "                         [a.numpy(), b.numpy()],\n",
    "                         [b.numpy(), c.numpy()],\n",
    "                         [c.numpy(), d.numpy()],\n",
    "                         [d.numpy(), a.numpy()]])\n",
    "        \n",
    "        #print(segs)\n",
    "        segs = trimesh.load_path(segs)\n",
    "\n",
    "        # different color for different dirs\n",
    "        segs.colors = np.array([dir.get_color()]).repeat(len(segs.entities), 0)\n",
    "\n",
    "        objects.append(segs)\n",
    "\n",
    "    trimesh.Scene(objects).show(viewer='gl')"
   ]
  },
  {
   "cell_type": "code",
   "execution_count": 182,
   "metadata": {},
   "outputs": [],
   "source": [
    "poses, dirs = generate_random_poses(100)\n",
    "\n",
    "visualize_poses(poses, dirs)\n"
   ]
  },
  {
   "cell_type": "code",
   "execution_count": 154,
   "metadata": {},
   "outputs": [],
   "source": [
    "import sys\n",
    "sys.path.append(\"..\") \n",
    "from tiny_nerf.utils.ray_utils import get_ray_directions, get_rays\n",
    "\n",
    "default_fov = 20\n",
    "H = 10\n",
    "W = 10\n",
    "focal = H / (2 * np.tan(np.deg2rad(default_fov) / 2))\n",
    "\n",
    "directions = get_ray_directions(H, W, focal)\n",
    "poses, dirs = generate_random_poses(10)\n",
    "\n",
    "ray_origin, ray_direction = get_rays(directions, poses[0])"
   ]
  },
  {
   "cell_type": "code",
   "execution_count": 155,
   "metadata": {},
   "outputs": [],
   "source": [
    "def visualize_rays(origins, directions, size = 0.1):\n",
    "    axes = trimesh.creation.axis(axis_length=4)\n",
    "    objects = [axes]\n",
    "\n",
    "    for origin, direction in zip(origins, directions):\n",
    "        end = origin + direction\n",
    "        segs = np.array([origin.numpy(), end.numpy()], dtype='object')\n",
    "        segs = trimesh.load_path(segs)\n",
    "        objects.append(segs)\n",
    "\n",
    "    trimesh.Scene(objects).show(viewer='gl')"
   ]
  },
  {
   "cell_type": "code",
   "execution_count": 156,
   "metadata": {},
   "outputs": [],
   "source": [
    "visualize_rays(ray_origin, ray_direction)"
   ]
  }
 ],
 "metadata": {
  "kernelspec": {
   "display_name": "usual",
   "language": "python",
   "name": "python3"
  },
  "language_info": {
   "codemirror_mode": {
    "name": "ipython",
    "version": 3
   },
   "file_extension": ".py",
   "mimetype": "text/x-python",
   "name": "python",
   "nbconvert_exporter": "python",
   "pygments_lexer": "ipython3",
   "version": "3.11.7"
  }
 },
 "nbformat": 4,
 "nbformat_minor": 2
}
